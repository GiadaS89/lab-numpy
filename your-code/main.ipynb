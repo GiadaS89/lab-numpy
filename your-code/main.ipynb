{
 "cells": [
  {
   "cell_type": "markdown",
   "metadata": {},
   "source": [
    "# Intrduction to NumPy\n",
    "\n",
    "\n",
    "#### 1. Import NumPy under the name np."
   ]
  },
  {
   "cell_type": "code",
   "execution_count": 1,
   "metadata": {},
   "outputs": [],
   "source": [
    "# your code here\n",
    "\n",
    "import numpy as np"
   ]
  },
  {
   "cell_type": "markdown",
   "metadata": {},
   "source": [
    "#### 2. Print your NumPy version."
   ]
  },
  {
   "cell_type": "code",
   "execution_count": 44,
   "metadata": {},
   "outputs": [
    {
     "name": "stdout",
     "output_type": "stream",
     "text": [
      "1.21.2\n"
     ]
    },
    {
     "data": {
      "text/plain": [
       "'1.21.2'"
      ]
     },
     "execution_count": 44,
     "metadata": {},
     "output_type": "execute_result"
    }
   ],
   "source": [
    "# your code here\n",
    "\n",
    "#Option 1\n",
    "print(np.__version__)\n",
    "\n",
    "#Option 2\n",
    "np.version.version"
   ]
  },
  {
   "cell_type": "markdown",
   "metadata": {},
   "source": [
    "#### 3. Generate a 2x3x5 3-dimensional array with random values. Assign the array to variable *a*.\n",
    "**Challenge**: there are at least three easy ways that use numpy to generate random arrays. How many ways can you find?"
   ]
  },
  {
   "cell_type": "code",
   "execution_count": 45,
   "metadata": {},
   "outputs": [],
   "source": [
    "# Method 1\n",
    "\n",
    "#We created an array, of random values - which range is by default (0-1.0), of 2 groups, of 3 rows and 5 columns\n",
    "\n",
    "a = np.random.random(size=(2,3,5))"
   ]
  },
  {
   "cell_type": "code",
   "execution_count": 46,
   "metadata": {},
   "outputs": [
    {
     "data": {
      "text/plain": [
       "array([[[0, 3, 9, 9, 8],\n",
       "        [5, 5, 6, 0, 5],\n",
       "        [9, 7, 2, 8, 0]],\n",
       "\n",
       "       [[7, 8, 5, 1, 9],\n",
       "        [6, 8, 4, 6, 0],\n",
       "        [0, 4, 7, 1, 4]]])"
      ]
     },
     "execution_count": 46,
     "metadata": {},
     "output_type": "execute_result"
    }
   ],
   "source": [
    "# Method 2\n",
    "#As opposed to np.random.random, in np.random.randit we must specify the range (0, 10) in the first arguments \n",
    "#of the function\n",
    "\n",
    "np.random.randint(0, 10, size=(2,3,5))\n"
   ]
  },
  {
   "cell_type": "code",
   "execution_count": 47,
   "metadata": {},
   "outputs": [
    {
     "data": {
      "text/plain": [
       "array([[[1., 1., 1., 1., 1.],\n",
       "        [1., 1., 1., 1., 1.],\n",
       "        [1., 1., 1., 1., 1.]],\n",
       "\n",
       "       [[1., 1., 1., 1., 1.],\n",
       "        [1., 1., 1., 1., 1.],\n",
       "        [1., 1., 1., 1., 1.]]])"
      ]
     },
     "execution_count": 47,
     "metadata": {},
     "output_type": "execute_result"
    }
   ],
   "source": [
    "# Method 3\n",
    "\n",
    "np.empty((2,3,5))\n"
   ]
  },
  {
   "cell_type": "markdown",
   "metadata": {},
   "source": [
    "#### 4. Print *a*.\n"
   ]
  },
  {
   "cell_type": "code",
   "execution_count": 48,
   "metadata": {},
   "outputs": [
    {
     "name": "stdout",
     "output_type": "stream",
     "text": [
      "[[[0.1195979  0.91269041 0.51031225 0.67547521 0.82040641]\n",
      "  [0.5562328  0.82437856 0.29239371 0.3520462  0.7648831 ]\n",
      "  [0.11249437 0.92722868 0.44864088 0.80492877 0.93996494]]\n",
      "\n",
      " [[0.02296741 0.92902342 0.42622173 0.46975591 0.66061059]\n",
      "  [0.88140239 0.62741043 0.48837715 0.3262053  0.63657154]\n",
      "  [0.68451055 0.52759617 0.22261142 0.46338941 0.8823581 ]]]\n"
     ]
    }
   ],
   "source": [
    "# your code here\n",
    "\n",
    "print(a)"
   ]
  },
  {
   "cell_type": "markdown",
   "metadata": {},
   "source": [
    "#### 5. Create a 5x2x3 3-dimensional array with all values equaling 1. Assign the array to variable *b*."
   ]
  },
  {
   "cell_type": "code",
   "execution_count": 49,
   "metadata": {},
   "outputs": [],
   "source": [
    "# your code here\n",
    "\n",
    "b = np.ones(shape = (5,2,3), dtype = int)"
   ]
  },
  {
   "cell_type": "markdown",
   "metadata": {},
   "source": [
    "#### 6. Print *b*.\n"
   ]
  },
  {
   "cell_type": "code",
   "execution_count": 50,
   "metadata": {},
   "outputs": [
    {
     "name": "stdout",
     "output_type": "stream",
     "text": [
      "[[[1 1 1]\n",
      "  [1 1 1]]\n",
      "\n",
      " [[1 1 1]\n",
      "  [1 1 1]]\n",
      "\n",
      " [[1 1 1]\n",
      "  [1 1 1]]\n",
      "\n",
      " [[1 1 1]\n",
      "  [1 1 1]]\n",
      "\n",
      " [[1 1 1]\n",
      "  [1 1 1]]]\n"
     ]
    }
   ],
   "source": [
    "# your code here\n",
    "\n",
    "print(b)"
   ]
  },
  {
   "cell_type": "markdown",
   "metadata": {},
   "source": [
    "#### 7. Do *a* and *b* have the same size? How do you prove that in Python code?"
   ]
  },
  {
   "cell_type": "code",
   "execution_count": 53,
   "metadata": {},
   "outputs": [
    {
     "name": "stdout",
     "output_type": "stream",
     "text": [
      "(2, 3, 5)\n",
      "(5, 2, 3)\n"
     ]
    },
    {
     "data": {
      "text/plain": [
       "False"
      ]
     },
     "execution_count": 53,
     "metadata": {},
     "output_type": "execute_result"
    }
   ],
   "source": [
    "# your code here\n",
    "\n",
    "#1. Print the shape of a and b\n",
    "print(a.shape)\n",
    "print(b.shape)\n",
    "\n",
    "\n",
    "\n",
    "#2. Compare the size of a and b\n",
    "\n",
    "a.shape == b.shape"
   ]
  },
  {
   "cell_type": "markdown",
   "metadata": {},
   "source": [
    "#### 8. Are you able to add *a* and *b*? Why or why not?\n"
   ]
  },
  {
   "cell_type": "code",
   "execution_count": 54,
   "metadata": {},
   "outputs": [
    {
     "ename": "ValueError",
     "evalue": "operands could not be broadcast together with shapes (2,3,5) (5,2,3) ",
     "output_type": "error",
     "traceback": [
      "\u001b[0;31m---------------------------------------------------------------------------\u001b[0m",
      "\u001b[0;31mValueError\u001b[0m                                Traceback (most recent call last)",
      "Input \u001b[0;32mIn [54]\u001b[0m, in \u001b[0;36m<cell line: 3>\u001b[0;34m()\u001b[0m\n\u001b[1;32m      1\u001b[0m \u001b[38;5;66;03m# your answer here\u001b[39;00m\n\u001b[0;32m----> 3\u001b[0m \u001b[43ma\u001b[49m\u001b[43m \u001b[49m\u001b[38;5;241;43m+\u001b[39;49m\u001b[43m \u001b[49m\u001b[43mb\u001b[49m\n",
      "\u001b[0;31mValueError\u001b[0m: operands could not be broadcast together with shapes (2,3,5) (5,2,3) "
     ]
    }
   ],
   "source": [
    "# your answer here\n",
    "\n",
    "a + b\n",
    "\n",
    "#We cannot add a and b because our arrays have different shapes."
   ]
  },
  {
   "cell_type": "markdown",
   "metadata": {},
   "source": [
    "#### 9. Transpose *b* so that it has the same structure of *a* (i.e. become a 2x3x5 array). Assign the transposed array to variable *c*."
   ]
  },
  {
   "cell_type": "code",
   "execution_count": 62,
   "metadata": {},
   "outputs": [
    {
     "data": {
      "text/plain": [
       "array([[[1, 1, 1, 1, 1],\n",
       "        [1, 1, 1, 1, 1],\n",
       "        [1, 1, 1, 1, 1]],\n",
       "\n",
       "       [[1, 1, 1, 1, 1],\n",
       "        [1, 1, 1, 1, 1],\n",
       "        [1, 1, 1, 1, 1]]])"
      ]
     },
     "execution_count": 62,
     "metadata": {},
     "output_type": "execute_result"
    }
   ],
   "source": [
    "# your code here\n",
    "\n",
    "#We want to transpose b into c and create a structure of 2 groups, 3 rows and 5 columns. In order to do so, we need\n",
    "#to invert the index of each dimension. \n",
    "\n",
    "##b has a shape of (5,2,3), which means that in our tuple, 5 is 0 index, 2 is 1 index, and 3 is 2 index.\n",
    "##In order to get c with a shape of (2,3,5), we need to create a tuple with our original 2 in 0 index, our original\n",
    "##3 in 1 index and our original 5 in 2 index. \n",
    "\n",
    "c = np.transpose(b, (1, 2, 0))\n",
    "\n",
    "c\n"
   ]
  },
  {
   "cell_type": "code",
   "execution_count": 63,
   "metadata": {},
   "outputs": [
    {
     "data": {
      "text/plain": [
       "(2, 3, 5)"
      ]
     },
     "execution_count": 63,
     "metadata": {},
     "output_type": "execute_result"
    }
   ],
   "source": [
    "c.shape"
   ]
  },
  {
   "cell_type": "markdown",
   "metadata": {},
   "source": [
    "#### 10. Try to add *a* and *c*. Now it should work. Assign the sum to variable *d*. But why does it work now?"
   ]
  },
  {
   "cell_type": "code",
   "execution_count": 65,
   "metadata": {},
   "outputs": [
    {
     "data": {
      "text/plain": [
       "array([[[1.1195979 , 1.91269041, 1.51031225, 1.67547521, 1.82040641],\n",
       "        [1.5562328 , 1.82437856, 1.29239371, 1.3520462 , 1.7648831 ],\n",
       "        [1.11249437, 1.92722868, 1.44864088, 1.80492877, 1.93996494]],\n",
       "\n",
       "       [[1.02296741, 1.92902342, 1.42622173, 1.46975591, 1.66061059],\n",
       "        [1.88140239, 1.62741043, 1.48837715, 1.3262053 , 1.63657154],\n",
       "        [1.68451055, 1.52759617, 1.22261142, 1.46338941, 1.8823581 ]]])"
      ]
     },
     "execution_count": 65,
     "metadata": {},
     "output_type": "execute_result"
    }
   ],
   "source": [
    "# your code/answer here\n",
    "\n",
    "d = a + c\n",
    "\n",
    "d\n",
    "\n",
    "#It works because a and c have the same shape."
   ]
  },
  {
   "cell_type": "markdown",
   "metadata": {},
   "source": [
    "#### 11. Print *a* and *d*. Notice the difference and relation of the two array in terms of the values? Explain."
   ]
  },
  {
   "cell_type": "code",
   "execution_count": 66,
   "metadata": {},
   "outputs": [
    {
     "name": "stdout",
     "output_type": "stream",
     "text": [
      "[[[0.1195979  0.91269041 0.51031225 0.67547521 0.82040641]\n",
      "  [0.5562328  0.82437856 0.29239371 0.3520462  0.7648831 ]\n",
      "  [0.11249437 0.92722868 0.44864088 0.80492877 0.93996494]]\n",
      "\n",
      " [[0.02296741 0.92902342 0.42622173 0.46975591 0.66061059]\n",
      "  [0.88140239 0.62741043 0.48837715 0.3262053  0.63657154]\n",
      "  [0.68451055 0.52759617 0.22261142 0.46338941 0.8823581 ]]]\n"
     ]
    }
   ],
   "source": [
    "# your code/answer here\n",
    "\n",
    "print(a)"
   ]
  },
  {
   "cell_type": "code",
   "execution_count": 67,
   "metadata": {},
   "outputs": [
    {
     "name": "stdout",
     "output_type": "stream",
     "text": [
      "[[[1.1195979  1.91269041 1.51031225 1.67547521 1.82040641]\n",
      "  [1.5562328  1.82437856 1.29239371 1.3520462  1.7648831 ]\n",
      "  [1.11249437 1.92722868 1.44864088 1.80492877 1.93996494]]\n",
      "\n",
      " [[1.02296741 1.92902342 1.42622173 1.46975591 1.66061059]\n",
      "  [1.88140239 1.62741043 1.48837715 1.3262053  1.63657154]\n",
      "  [1.68451055 1.52759617 1.22261142 1.46338941 1.8823581 ]]]\n"
     ]
    }
   ],
   "source": [
    "print(d)\n",
    "\n",
    "#Every element in d equals to the corresponding summed element of a + c:\n",
    "##The values of a are between 0 and 1.0, 1.0 excluded\n",
    "##The value of c is 1 always"
   ]
  },
  {
   "cell_type": "markdown",
   "metadata": {},
   "source": [
    "#### 12. Multiply *a* and *c*. Assign the result to *e*."
   ]
  },
  {
   "cell_type": "code",
   "execution_count": 69,
   "metadata": {},
   "outputs": [
    {
     "name": "stdout",
     "output_type": "stream",
     "text": [
      "[[[0.1195979  0.91269041 0.51031225 0.67547521 0.82040641]\n",
      "  [0.5562328  0.82437856 0.29239371 0.3520462  0.7648831 ]\n",
      "  [0.11249437 0.92722868 0.44864088 0.80492877 0.93996494]]\n",
      "\n",
      " [[0.02296741 0.92902342 0.42622173 0.46975591 0.66061059]\n",
      "  [0.88140239 0.62741043 0.48837715 0.3262053  0.63657154]\n",
      "  [0.68451055 0.52759617 0.22261142 0.46338941 0.8823581 ]]]\n"
     ]
    }
   ],
   "source": [
    "# your code here\n",
    "\n",
    "e = a * c\n",
    "\n",
    "print(e)"
   ]
  },
  {
   "cell_type": "markdown",
   "metadata": {},
   "source": [
    "#### 13. Does *e* equal to *a*? Why or why not?\n"
   ]
  },
  {
   "cell_type": "code",
   "execution_count": 70,
   "metadata": {},
   "outputs": [
    {
     "data": {
      "text/plain": [
       "array([[[ True,  True,  True,  True,  True],\n",
       "        [ True,  True,  True,  True,  True],\n",
       "        [ True,  True,  True,  True,  True]],\n",
       "\n",
       "       [[ True,  True,  True,  True,  True],\n",
       "        [ True,  True,  True,  True,  True],\n",
       "        [ True,  True,  True,  True,  True]]])"
      ]
     },
     "execution_count": 70,
     "metadata": {},
     "output_type": "execute_result"
    }
   ],
   "source": [
    "# your code/answer here\n",
    "\n",
    "e == a\n",
    "\n",
    "#e equals to a because, because c = 1, and a*1 = a"
   ]
  },
  {
   "cell_type": "markdown",
   "metadata": {},
   "source": [
    "#### 14. Identify the max, min, and mean values in *d*. Assign those values to variables *d_max*, *d_min* and *d_mean*."
   ]
  },
  {
   "cell_type": "code",
   "execution_count": 73,
   "metadata": {},
   "outputs": [
    {
     "name": "stdout",
     "output_type": "stream",
     "text": [
      "1.939964942951444\n"
     ]
    }
   ],
   "source": [
    "# your code here\n",
    "\n",
    "#1. Maximum of d\n",
    "\n",
    "d_max = d.max()\n",
    "print(d_max)\n"
   ]
  },
  {
   "cell_type": "code",
   "execution_count": 74,
   "metadata": {},
   "outputs": [
    {
     "name": "stdout",
     "output_type": "stream",
     "text": [
      "1.0229674125601935\n"
     ]
    }
   ],
   "source": [
    "#2. Minimum of d\n",
    "\n",
    "d_min = d.min()\n",
    "print(d_min)"
   ]
  },
  {
   "cell_type": "code",
   "execution_count": 75,
   "metadata": {},
   "outputs": [
    {
     "name": "stdout",
     "output_type": "stream",
     "text": [
      "1.5770228576031116\n"
     ]
    }
   ],
   "source": [
    "#3. Mean of d\n",
    "\n",
    "d_mean = d.mean()\n",
    "print(d_mean)"
   ]
  },
  {
   "cell_type": "markdown",
   "metadata": {},
   "source": [
    "#### 15. Now we want to label the values in *d*. First create an empty array *f* with the same shape (i.e. 2x3x5) as *d* using `np.empty`.\n"
   ]
  },
  {
   "cell_type": "code",
   "execution_count": 77,
   "metadata": {},
   "outputs": [
    {
     "name": "stdout",
     "output_type": "stream",
     "text": [
      "[[[0.1195979  0.91269041 0.51031225 0.67547521 0.82040641]\n",
      "  [0.5562328  0.82437856 0.29239371 0.3520462  0.7648831 ]\n",
      "  [0.11249437 0.92722868 0.44864088 0.80492877 0.93996494]]\n",
      "\n",
      " [[0.02296741 0.92902342 0.42622173 0.46975591 0.66061059]\n",
      "  [0.88140239 0.62741043 0.48837715 0.3262053  0.63657154]\n",
      "  [0.68451055 0.52759617 0.22261142 0.46338941 0.8823581 ]]]\n"
     ]
    }
   ],
   "source": [
    "# your code here\n",
    "\n",
    "#1. We create an empty array, called f\n",
    "f = np.empty((2,3,5))\n",
    "print(f)\n"
   ]
  },
  {
   "cell_type": "markdown",
   "metadata": {},
   "source": [
    "#### 16. Populate the values in *f*. \n",
    "\n",
    "For each value in *d*, if it's larger than *d_min* but smaller than *d_mean*, assign 25 to the corresponding value in *f*. If a value in *d* is larger than *d_mean* but smaller than *d_max*, assign 75 to the corresponding value in *f*. If a value equals to *d_mean*, assign 50 to the corresponding value in *f*. Assign 0 to the corresponding value(s) in *f* for *d_min* in *d*. Assign 100 to the corresponding value(s) in *f* for *d_max* in *d*. In the end, f should have only the following values: 0, 25, 50, 75, and 100.\n",
    "\n",
    "**Note**: you don't have to use Numpy in this question."
   ]
  },
  {
   "cell_type": "code",
   "execution_count": 79,
   "metadata": {},
   "outputs": [
    {
     "data": {
      "text/plain": [
       "array([[[ 25.,  75.,  25.,  75.,  75.],\n",
       "        [ 25.,  75.,  25.,  25.,  75.],\n",
       "        [ 25.,  75.,  25.,  75., 100.]],\n",
       "\n",
       "       [[  0.,  75.,  25.,  25.,  75.],\n",
       "        [ 75.,  75.,  25.,  25.,  75.],\n",
       "        [ 75.,  25.,  25.,  25.,  75.]]])"
      ]
     },
     "execution_count": 79,
     "metadata": {},
     "output_type": "execute_result"
    }
   ],
   "source": [
    "# your code here\n",
    "\n",
    "for x in range(d.shape[0]):\n",
    "  for y in range(d.shape[1]):\n",
    "    for z in range(d.shape[2]):\n",
    "      if d[x,y,z] > d_min and d[x,y,z] < d_mean:\n",
    "        f[x,y,z] = 25\n",
    "      if d[x,y,z] == d_min:\n",
    "        f[x,y,z] = 0\n",
    "      if d[x,y,z] == d_mean:\n",
    "        f[x,y,z] = 50\n",
    "      if d[x,y,z] > d_mean and d[x,y,z] < d_max:\n",
    "        f[x,y,z] = 75\n",
    "      if d[x,y,z] == d_max:\n",
    "        f[x,y,z] = 100\n",
    "\n",
    "f"
   ]
  },
  {
   "cell_type": "markdown",
   "metadata": {},
   "source": [
    "#### 17. Print *d* and *f*. Do you have your expected *f*?\n",
    "For instance, if your *d* is:\n",
    "```python\n",
    "[[[1.85836099, 1.67064465, 1.62576044, 1.40243961, 1.88454931],\n",
    "[1.75354326, 1.69403643, 1.36729252, 1.61415071, 1.12104981],\n",
    "[1.72201435, 1.1862918 , 1.87078449, 1.7726778 , 1.88180042]],\n",
    "[[1.44747908, 1.31673383, 1.02000951, 1.52218947, 1.97066381],\n",
    "[1.79129243, 1.74983003, 1.96028037, 1.85166831, 1.65450881],\n",
    "[1.18068344, 1.9587381 , 1.00656599, 1.93402165, 1.73514584]]]\n",
    "```\n",
    "Your *f* should be:\n",
    "```python\n",
    "[[[ 75.,  75.,  75.,  25.,  75.],\n",
    "[ 75.,  75.,  25.,  25.,  25.],\n",
    "[ 75.,  25.,  75.,  75.,  75.]],\n",
    "[[ 25.,  25.,  25.,  25., 100.],\n",
    "[ 75.,  75.,  75.,  75.,  75.],\n",
    "[ 25.,  75.,   0.,  75.,  75.]]]\n",
    "```"
   ]
  },
  {
   "cell_type": "code",
   "execution_count": 82,
   "metadata": {},
   "outputs": [
    {
     "name": "stdout",
     "output_type": "stream",
     "text": [
      "[[[1.1195979  1.91269041 1.51031225 1.67547521 1.82040641]\n",
      "  [1.5562328  1.82437856 1.29239371 1.3520462  1.7648831 ]\n",
      "  [1.11249437 1.92722868 1.44864088 1.80492877 1.93996494]]\n",
      "\n",
      " [[1.02296741 1.92902342 1.42622173 1.46975591 1.66061059]\n",
      "  [1.88140239 1.62741043 1.48837715 1.3262053  1.63657154]\n",
      "  [1.68451055 1.52759617 1.22261142 1.46338941 1.8823581 ]]]\n",
      "[[[ 25.  75.  25.  75.  75.]\n",
      "  [ 25.  75.  25.  25.  75.]\n",
      "  [ 25.  75.  25.  75. 100.]]\n",
      "\n",
      " [[  0.  75.  25.  25.  75.]\n",
      "  [ 75.  75.  25.  25.  75.]\n",
      "  [ 75.  25.  25.  25.  75.]]]\n"
     ]
    }
   ],
   "source": [
    "# your code here\n",
    "\n",
    "print(d)\n",
    "\n",
    "print(f)"
   ]
  },
  {
   "cell_type": "markdown",
   "metadata": {},
   "source": [
    "#### 18. Bonus question: instead of using numbers (i.e. 0, 25, 50, 75, and 100), use string values  (\"A\", \"B\", \"C\", \"D\", and \"E\") to label the array elements. For the example above, the expected result is:\n",
    "\n",
    "```python\n",
    "[[[ 'D',  'D',  'D',  'B',  'D'],\n",
    "[ 'D',  'D',  'B',  'B',  'B'],\n",
    "[ 'D',  'B',  'D',  'D',  'D']],\n",
    "[[ 'B',  'B',  'B',  'B',  'E'],\n",
    "[ 'D',  'D',  'D',  'D',  'D'],\n",
    "[ 'B',  'D',   'A',  'D', 'D']]]\n",
    "```\n",
    "**Note**: you don't have to use Numpy in this question."
   ]
  },
  {
   "cell_type": "code",
   "execution_count": 90,
   "metadata": {},
   "outputs": [
    {
     "data": {
      "text/plain": [
       "array([[['B', 'D', 'B', 'D', 'D'],\n",
       "        ['B', 'D', 'B', 'B', 'D'],\n",
       "        ['B', 'D', 'B', 'D', 'E']],\n",
       "\n",
       "       [['A', 'D', 'B', 'B', 'D'],\n",
       "        ['D', 'D', 'B', 'B', 'D'],\n",
       "        ['D', 'B', 'B', 'B', 'D']]], dtype='<U1')"
      ]
     },
     "execution_count": 90,
     "metadata": {},
     "output_type": "execute_result"
    }
   ],
   "source": [
    "# your code here\n",
    "\n",
    "# A is equal to 0\n",
    "# B is equal to 25\n",
    "# C is equal to 50\n",
    "# D is equal to 75\n",
    "# E is equal to 100\n",
    "\n",
    "f = np.empty(shape=d.shape, dtype = str)\n",
    "\n",
    "for x in range(d.shape[0]):\n",
    "  for y in range(d.shape[1]):\n",
    "    for z in range(d.shape[2]):\n",
    "      if d[x,y,z] > d_min and d[x,y,z] < d_mean:\n",
    "        f[x,y,z] = 'B'\n",
    "      if d[x,y,z] == d_min:\n",
    "        f[x,y,z] = 'A'\n",
    "      if d[x,y,z] == d_mean:\n",
    "        f[x,y,z] = 'C'\n",
    "      if d[x,y,z] > d_mean and d[x,y,z] < d_max:\n",
    "        f[x,y,z] = 'D'\n",
    "      if d[x,y,z] == d_max:\n",
    "        f[x,y,z] = 'E'\n",
    "        \n",
    "f"
   ]
  },
  {
   "cell_type": "code",
   "execution_count": null,
   "metadata": {},
   "outputs": [],
   "source": []
  }
 ],
 "metadata": {
  "kernelspec": {
   "display_name": "Python 3 (ipykernel)",
   "language": "python",
   "name": "python3"
  },
  "language_info": {
   "codemirror_mode": {
    "name": "ipython",
    "version": 3
   },
   "file_extension": ".py",
   "mimetype": "text/x-python",
   "name": "python",
   "nbconvert_exporter": "python",
   "pygments_lexer": "ipython3",
   "version": "3.9.12"
  }
 },
 "nbformat": 4,
 "nbformat_minor": 2
}
